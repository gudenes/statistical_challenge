{
 "cells": [
  {
   "cell_type": "code",
   "execution_count": 1,
   "metadata": {},
   "outputs": [],
   "source": [
    "import pandas as pd\n",
    "import numpy as np"
   ]
  },
  {
   "cell_type": "code",
   "execution_count": 4,
   "metadata": {},
   "outputs": [],
   "source": [
    "train = pd.read_csv(\"train.csv\")"
   ]
  },
  {
   "cell_type": "code",
   "execution_count": 6,
   "metadata": {},
   "outputs": [
    {
     "data": {
      "text/html": [
       "<div>\n",
       "<style scoped>\n",
       "    .dataframe tbody tr th:only-of-type {\n",
       "        vertical-align: middle;\n",
       "    }\n",
       "\n",
       "    .dataframe tbody tr th {\n",
       "        vertical-align: top;\n",
       "    }\n",
       "\n",
       "    .dataframe thead th {\n",
       "        text-align: right;\n",
       "    }\n",
       "</style>\n",
       "<table border=\"1\" class=\"dataframe\">\n",
       "  <thead>\n",
       "    <tr style=\"text-align: right;\">\n",
       "      <th></th>\n",
       "      <th>AnimalID</th>\n",
       "      <th>Name</th>\n",
       "      <th>DateTime</th>\n",
       "      <th>OutcomeType</th>\n",
       "      <th>OutcomeSubtype</th>\n",
       "      <th>AnimalType</th>\n",
       "      <th>SexuponOutcome</th>\n",
       "      <th>AgeuponOutcome</th>\n",
       "      <th>Breed</th>\n",
       "      <th>Color</th>\n",
       "    </tr>\n",
       "  </thead>\n",
       "  <tbody>\n",
       "    <tr>\n",
       "      <th>0</th>\n",
       "      <td>A671945</td>\n",
       "      <td>Hambone</td>\n",
       "      <td>2014-02-12 18:22:00</td>\n",
       "      <td>Return_to_owner</td>\n",
       "      <td>NaN</td>\n",
       "      <td>Dog</td>\n",
       "      <td>Neutered Male</td>\n",
       "      <td>1 year</td>\n",
       "      <td>Shetland Sheepdog Mix</td>\n",
       "      <td>Brown/White</td>\n",
       "    </tr>\n",
       "    <tr>\n",
       "      <th>1</th>\n",
       "      <td>A656520</td>\n",
       "      <td>Emily</td>\n",
       "      <td>2013-10-13 12:44:00</td>\n",
       "      <td>Euthanasia</td>\n",
       "      <td>Suffering</td>\n",
       "      <td>Cat</td>\n",
       "      <td>Spayed Female</td>\n",
       "      <td>1 year</td>\n",
       "      <td>Domestic Shorthair Mix</td>\n",
       "      <td>Cream Tabby</td>\n",
       "    </tr>\n",
       "    <tr>\n",
       "      <th>2</th>\n",
       "      <td>A686464</td>\n",
       "      <td>Pearce</td>\n",
       "      <td>2015-01-31 12:28:00</td>\n",
       "      <td>Adoption</td>\n",
       "      <td>Foster</td>\n",
       "      <td>Dog</td>\n",
       "      <td>Neutered Male</td>\n",
       "      <td>2 years</td>\n",
       "      <td>Pit Bull Mix</td>\n",
       "      <td>Blue/White</td>\n",
       "    </tr>\n",
       "    <tr>\n",
       "      <th>3</th>\n",
       "      <td>A683430</td>\n",
       "      <td>NaN</td>\n",
       "      <td>2014-07-11 19:09:00</td>\n",
       "      <td>Transfer</td>\n",
       "      <td>Partner</td>\n",
       "      <td>Cat</td>\n",
       "      <td>Intact Male</td>\n",
       "      <td>3 weeks</td>\n",
       "      <td>Domestic Shorthair Mix</td>\n",
       "      <td>Blue Cream</td>\n",
       "    </tr>\n",
       "    <tr>\n",
       "      <th>4</th>\n",
       "      <td>A667013</td>\n",
       "      <td>NaN</td>\n",
       "      <td>2013-11-15 12:52:00</td>\n",
       "      <td>Transfer</td>\n",
       "      <td>Partner</td>\n",
       "      <td>Dog</td>\n",
       "      <td>Neutered Male</td>\n",
       "      <td>2 years</td>\n",
       "      <td>Lhasa Apso/Miniature Poodle</td>\n",
       "      <td>Tan</td>\n",
       "    </tr>\n",
       "  </tbody>\n",
       "</table>\n",
       "</div>"
      ],
      "text/plain": [
       "  AnimalID     Name             DateTime      OutcomeType OutcomeSubtype  \\\n",
       "0  A671945  Hambone  2014-02-12 18:22:00  Return_to_owner            NaN   \n",
       "1  A656520    Emily  2013-10-13 12:44:00       Euthanasia      Suffering   \n",
       "2  A686464   Pearce  2015-01-31 12:28:00         Adoption         Foster   \n",
       "3  A683430      NaN  2014-07-11 19:09:00         Transfer        Partner   \n",
       "4  A667013      NaN  2013-11-15 12:52:00         Transfer        Partner   \n",
       "\n",
       "  AnimalType SexuponOutcome AgeuponOutcome                        Breed  \\\n",
       "0        Dog  Neutered Male         1 year        Shetland Sheepdog Mix   \n",
       "1        Cat  Spayed Female         1 year       Domestic Shorthair Mix   \n",
       "2        Dog  Neutered Male        2 years                 Pit Bull Mix   \n",
       "3        Cat    Intact Male        3 weeks       Domestic Shorthair Mix   \n",
       "4        Dog  Neutered Male        2 years  Lhasa Apso/Miniature Poodle   \n",
       "\n",
       "         Color  \n",
       "0  Brown/White  \n",
       "1  Cream Tabby  \n",
       "2   Blue/White  \n",
       "3   Blue Cream  \n",
       "4          Tan  "
      ]
     },
     "execution_count": 6,
     "metadata": {},
     "output_type": "execute_result"
    }
   ],
   "source": [
    "train.head()"
   ]
  },
  {
   "cell_type": "code",
   "execution_count": 9,
   "metadata": {},
   "outputs": [
    {
     "data": {
      "text/plain": [
       "(26729, 10)"
      ]
     },
     "execution_count": 9,
     "metadata": {},
     "output_type": "execute_result"
    }
   ],
   "source": [
    "train.shape"
   ]
  },
  {
   "cell_type": "code",
   "execution_count": 14,
   "metadata": {},
   "outputs": [
    {
     "data": {
      "text/plain": [
       "AnimalID           0.000000\n",
       "Name              28.773991\n",
       "DateTime           0.000000\n",
       "OutcomeType        0.000000\n",
       "OutcomeSubtype    50.925961\n",
       "AnimalType         0.000000\n",
       "SexuponOutcome     0.003741\n",
       "AgeuponOutcome     0.067343\n",
       "Breed              0.000000\n",
       "Color              0.000000\n",
       "dtype: float64"
      ]
     },
     "execution_count": 14,
     "metadata": {},
     "output_type": "execute_result"
    }
   ],
   "source": [
    "train.isnull().sum()/len(train)*100"
   ]
  },
  {
   "cell_type": "code",
   "execution_count": 18,
   "metadata": {},
   "outputs": [
    {
     "data": {
      "text/plain": [
       "AnimalID          object\n",
       "Name              object\n",
       "DateTime          object\n",
       "OutcomeType       object\n",
       "OutcomeSubtype    object\n",
       "AnimalType        object\n",
       "SexuponOutcome    object\n",
       "AgeuponOutcome    object\n",
       "Breed             object\n",
       "Color             object\n",
       "dtype: object"
      ]
     },
     "execution_count": 18,
     "metadata": {},
     "output_type": "execute_result"
    }
   ],
   "source": [
    "train.dtypes"
   ]
  },
  {
   "cell_type": "code",
   "execution_count": 21,
   "metadata": {},
   "outputs": [
    {
     "data": {
      "text/html": [
       "<div>\n",
       "<style scoped>\n",
       "    .dataframe tbody tr th:only-of-type {\n",
       "        vertical-align: middle;\n",
       "    }\n",
       "\n",
       "    .dataframe tbody tr th {\n",
       "        vertical-align: top;\n",
       "    }\n",
       "\n",
       "    .dataframe thead th {\n",
       "        text-align: right;\n",
       "    }\n",
       "</style>\n",
       "<table border=\"1\" class=\"dataframe\">\n",
       "  <thead>\n",
       "    <tr style=\"text-align: right;\">\n",
       "      <th></th>\n",
       "      <th>AnimalID</th>\n",
       "      <th>Name</th>\n",
       "      <th>DateTime</th>\n",
       "      <th>OutcomeType</th>\n",
       "      <th>OutcomeSubtype</th>\n",
       "      <th>AnimalType</th>\n",
       "      <th>SexuponOutcome</th>\n",
       "      <th>AgeuponOutcome</th>\n",
       "      <th>Breed</th>\n",
       "      <th>Color</th>\n",
       "    </tr>\n",
       "  </thead>\n",
       "  <tbody>\n",
       "    <tr>\n",
       "      <th>0</th>\n",
       "      <td>A671945</td>\n",
       "      <td>Hambone</td>\n",
       "      <td>2014-02-12 18:22:00</td>\n",
       "      <td>Return_to_owner</td>\n",
       "      <td>NaN</td>\n",
       "      <td>Dog</td>\n",
       "      <td>Neutered Male</td>\n",
       "      <td>1 year</td>\n",
       "      <td>Shetland Sheepdog Mix</td>\n",
       "      <td>Brown/White</td>\n",
       "    </tr>\n",
       "    <tr>\n",
       "      <th>1</th>\n",
       "      <td>A656520</td>\n",
       "      <td>Emily</td>\n",
       "      <td>2013-10-13 12:44:00</td>\n",
       "      <td>Euthanasia</td>\n",
       "      <td>Suffering</td>\n",
       "      <td>Cat</td>\n",
       "      <td>Spayed Female</td>\n",
       "      <td>1 year</td>\n",
       "      <td>Domestic Shorthair Mix</td>\n",
       "      <td>Cream Tabby</td>\n",
       "    </tr>\n",
       "    <tr>\n",
       "      <th>2</th>\n",
       "      <td>A686464</td>\n",
       "      <td>Pearce</td>\n",
       "      <td>2015-01-31 12:28:00</td>\n",
       "      <td>Adoption</td>\n",
       "      <td>Foster</td>\n",
       "      <td>Dog</td>\n",
       "      <td>Neutered Male</td>\n",
       "      <td>2 years</td>\n",
       "      <td>Pit Bull Mix</td>\n",
       "      <td>Blue/White</td>\n",
       "    </tr>\n",
       "    <tr>\n",
       "      <th>3</th>\n",
       "      <td>A683430</td>\n",
       "      <td>NaN</td>\n",
       "      <td>2014-07-11 19:09:00</td>\n",
       "      <td>Transfer</td>\n",
       "      <td>Partner</td>\n",
       "      <td>Cat</td>\n",
       "      <td>Intact Male</td>\n",
       "      <td>3 weeks</td>\n",
       "      <td>Domestic Shorthair Mix</td>\n",
       "      <td>Blue Cream</td>\n",
       "    </tr>\n",
       "    <tr>\n",
       "      <th>4</th>\n",
       "      <td>A667013</td>\n",
       "      <td>NaN</td>\n",
       "      <td>2013-11-15 12:52:00</td>\n",
       "      <td>Transfer</td>\n",
       "      <td>Partner</td>\n",
       "      <td>Dog</td>\n",
       "      <td>Neutered Male</td>\n",
       "      <td>2 years</td>\n",
       "      <td>Lhasa Apso/Miniature Poodle</td>\n",
       "      <td>Tan</td>\n",
       "    </tr>\n",
       "  </tbody>\n",
       "</table>\n",
       "</div>"
      ],
      "text/plain": [
       "  AnimalID     Name             DateTime      OutcomeType OutcomeSubtype  \\\n",
       "0  A671945  Hambone  2014-02-12 18:22:00  Return_to_owner            NaN   \n",
       "1  A656520    Emily  2013-10-13 12:44:00       Euthanasia      Suffering   \n",
       "2  A686464   Pearce  2015-01-31 12:28:00         Adoption         Foster   \n",
       "3  A683430      NaN  2014-07-11 19:09:00         Transfer        Partner   \n",
       "4  A667013      NaN  2013-11-15 12:52:00         Transfer        Partner   \n",
       "\n",
       "  AnimalType SexuponOutcome AgeuponOutcome                        Breed  \\\n",
       "0        Dog  Neutered Male         1 year        Shetland Sheepdog Mix   \n",
       "1        Cat  Spayed Female         1 year       Domestic Shorthair Mix   \n",
       "2        Dog  Neutered Male        2 years                 Pit Bull Mix   \n",
       "3        Cat    Intact Male        3 weeks       Domestic Shorthair Mix   \n",
       "4        Dog  Neutered Male        2 years  Lhasa Apso/Miniature Poodle   \n",
       "\n",
       "         Color  \n",
       "0  Brown/White  \n",
       "1  Cream Tabby  \n",
       "2   Blue/White  \n",
       "3   Blue Cream  \n",
       "4          Tan  "
      ]
     },
     "execution_count": 21,
     "metadata": {},
     "output_type": "execute_result"
    }
   ],
   "source": [
    "train.head()"
   ]
  },
  {
   "cell_type": "code",
   "execution_count": 24,
   "metadata": {},
   "outputs": [
    {
     "data": {
      "text/plain": [
       "0"
      ]
     },
     "execution_count": 24,
     "metadata": {},
     "output_type": "execute_result"
    }
   ],
   "source": [
    "train.duplicated().sum()"
   ]
  },
  {
   "cell_type": "code",
   "execution_count": 34,
   "metadata": {},
   "outputs": [
    {
     "data": {
      "text/plain": [
       "22918"
      ]
     },
     "execution_count": 34,
     "metadata": {},
     "output_type": "execute_result"
    }
   ],
   "source": [
    "len(train[\"DateTime\"].value_counts())"
   ]
  },
  {
   "cell_type": "code",
   "execution_count": 36,
   "metadata": {},
   "outputs": [
    {
     "data": {
      "text/plain": [
       "2"
      ]
     },
     "execution_count": 36,
     "metadata": {},
     "output_type": "execute_result"
    }
   ],
   "source": [
    "len(train[\"AnimalType\"].value_counts())"
   ]
  },
  {
   "cell_type": "code",
   "execution_count": 194,
   "metadata": {},
   "outputs": [
    {
     "data": {
      "text/plain": [
       "Neutered Male    9779\n",
       "Spayed Female    8820\n",
       "Intact Male      3525\n",
       "Intact Female    3511\n",
       "Unknown          1093\n",
       "Name: SexuponOutcome, dtype: int64"
      ]
     },
     "execution_count": 194,
     "metadata": {},
     "output_type": "execute_result"
    }
   ],
   "source": [
    "train[\"SexuponOutcome\"].value_counts()"
   ]
  },
  {
   "cell_type": "code",
   "execution_count": 212,
   "metadata": {},
   "outputs": [
    {
     "name": "stdout",
     "output_type": "stream",
     "text": [
      "AnimalID : 26729\n",
      "Name : 6374\n",
      "DateTime : 22918\n",
      "OutcomeType : 5\n",
      "OutcomeSubtype : 16\n",
      "AnimalType : 2\n",
      "SexuponOutcome : 5\n",
      "AgeuponOutcome : 44\n",
      "Breed : 1380\n",
      "Color : 366\n",
      "age_day : 43\n",
      "d : 43\n"
     ]
    }
   ],
   "source": [
    "for i in list(train.columns):\n",
    "    print(i,\":\",len(train[i].value_counts()))\n",
    "    "
   ]
  },
  {
   "cell_type": "code",
   "execution_count": 43,
   "metadata": {},
   "outputs": [
    {
     "name": "stdout",
     "output_type": "stream",
     "text": [
      "---------\n",
      "AnimalID\n",
      "---------\n",
      "A690670    1\n",
      "A658071    1\n",
      "A716499    1\n",
      "A688335    1\n",
      "A682173    1\n",
      "A685788    1\n",
      "A647859    1\n",
      "A699752    1\n",
      "A534780    1\n",
      "A694589    1\n",
      "A694228    1\n",
      "A696956    1\n",
      "A686530    1\n",
      "A717226    1\n",
      "A661042    1\n",
      "A670064    1\n",
      "A719125    1\n",
      "A709199    1\n",
      "A657441    1\n",
      "A698272    1\n",
      "A670070    1\n",
      "A688372    1\n",
      "A708964    1\n",
      "A695774    1\n",
      "A700559    1\n",
      "A281542    1\n",
      "A694468    1\n",
      "A696799    1\n",
      "A699621    1\n",
      "A712400    1\n",
      "          ..\n",
      "A692033    1\n",
      "A550885    1\n",
      "A708959    1\n",
      "A685593    1\n",
      "A666871    1\n",
      "A698196    1\n",
      "A676685    1\n",
      "A681958    1\n",
      "A661068    1\n",
      "A703163    1\n",
      "A684770    1\n",
      "A710004    1\n",
      "A706326    1\n",
      "A691868    1\n",
      "A688062    1\n",
      "A718708    1\n",
      "A694348    1\n",
      "A703156    1\n",
      "A673043    1\n",
      "A699169    1\n",
      "A682022    1\n",
      "A682505    1\n",
      "A687156    1\n",
      "A714046    1\n",
      "A678743    1\n",
      "A687713    1\n",
      "A693908    1\n",
      "A656694    1\n",
      "A697951    1\n",
      "A632870    1\n",
      "Name: AnimalID, Length: 26729, dtype: int64\n",
      "\n",
      "\n",
      "---------\n",
      "Name\n",
      "---------\n",
      "Max             136\n",
      "Bella           135\n",
      "Charlie         107\n",
      "Daisy           106\n",
      "Lucy             94\n",
      "Buddy            87\n",
      "Princess         86\n",
      "Rocky            85\n",
      "Luna             68\n",
      "Jack             66\n",
      "Lola             61\n",
      "Sadie            58\n",
      "Molly            57\n",
      "Shadow           57\n",
      "Coco             55\n",
      "Maggie           55\n",
      "Chico            54\n",
      "Lily             53\n",
      "Oreo             53\n",
      "Blue             52\n",
      "Lucky            51\n",
      "Toby             50\n",
      "Cookie           48\n",
      "Ginger           48\n",
      "Lady             47\n",
      "Sam              46\n",
      "Duke             45\n",
      "Oliver           44\n",
      "Milo             44\n",
      "Sophie           44\n",
      "               ... \n",
      "Beemo             1\n",
      "Tortuga           1\n",
      "Mistery           1\n",
      "Webster           1\n",
      "J                 1\n",
      "Alabaster         1\n",
      "R-Three           1\n",
      "Minne             1\n",
      "Tink Tink         1\n",
      "Hugsly            1\n",
      "Yolanda           1\n",
      "Georgia Grac      1\n",
      "Moon Light        1\n",
      "Jubilee           1\n",
      "Chicago           1\n",
      "Rizzo             1\n",
      "Dougal            1\n",
      "Sirka             1\n",
      "Booskie           1\n",
      "Kida              1\n",
      "Mowmow            1\n",
      "Cyprus            1\n",
      "Miss Black        1\n",
      "Brinley           1\n",
      "Kahri             1\n",
      "Machete           1\n",
      "Mandie            1\n",
      "Zeezou            1\n",
      "Elie-Mae          1\n",
      "Cookie-Poo        1\n",
      "Name: Name, Length: 6374, dtype: int64\n",
      "\n",
      "\n",
      "---------\n",
      "DateTime\n",
      "---------\n",
      "2015-08-11 00:00:00    19\n",
      "2015-11-17 00:00:00    17\n",
      "2015-07-02 00:00:00    13\n",
      "2015-04-02 00:00:00    11\n",
      "2014-08-31 09:00:00    10\n",
      "2014-08-26 09:00:00     9\n",
      "2015-09-11 00:00:00     9\n",
      "2016-02-15 00:00:00     9\n",
      "2015-11-23 00:00:00     9\n",
      "2015-11-08 00:00:00     8\n",
      "2014-08-17 09:00:00     8\n",
      "2014-06-21 09:00:00     8\n",
      "2015-06-19 00:00:00     8\n",
      "2015-07-26 09:00:00     8\n",
      "2014-09-06 09:00:00     8\n",
      "2015-09-01 00:00:00     8\n",
      "2014-07-16 09:00:00     8\n",
      "2015-08-03 00:00:00     8\n",
      "2016-02-07 00:00:00     7\n",
      "2014-12-27 11:09:00     7\n",
      "2015-07-03 09:00:00     7\n",
      "2015-04-20 14:08:00     7\n",
      "2014-11-05 09:00:00     7\n",
      "2015-10-19 09:00:00     7\n",
      "2014-04-26 15:31:00     7\n",
      "2014-08-16 09:00:00     7\n",
      "2015-08-02 09:00:00     7\n",
      "2015-04-25 09:00:00     7\n",
      "2014-05-03 16:15:00     7\n",
      "2015-11-05 00:00:00     7\n",
      "                       ..\n",
      "2015-10-26 18:13:00     1\n",
      "2013-11-24 18:56:00     1\n",
      "2015-05-30 14:45:00     1\n",
      "2016-02-20 18:22:00     1\n",
      "2015-01-28 16:10:00     1\n",
      "2015-03-16 11:07:00     1\n",
      "2014-08-29 11:22:00     1\n",
      "2015-07-11 16:11:00     1\n",
      "2015-10-23 15:21:00     1\n",
      "2014-11-12 17:51:00     1\n",
      "2014-12-04 12:23:00     1\n",
      "2015-06-29 14:04:00     1\n",
      "2014-03-20 17:24:00     1\n",
      "2015-05-26 16:56:00     1\n",
      "2015-09-29 14:32:00     1\n",
      "2015-12-24 00:00:00     1\n",
      "2015-01-20 16:11:00     1\n",
      "2014-03-30 13:52:00     1\n",
      "2015-02-17 18:56:00     1\n",
      "2014-01-03 19:08:00     1\n",
      "2015-01-06 18:57:00     1\n",
      "2014-06-30 13:33:00     1\n",
      "2014-04-06 14:11:00     1\n",
      "2015-11-23 14:35:00     1\n",
      "2015-04-04 15:26:00     1\n",
      "2015-08-28 18:42:00     1\n",
      "2013-10-16 18:43:00     1\n",
      "2015-07-20 17:05:00     1\n",
      "2014-06-07 16:18:00     1\n",
      "2015-08-09 14:59:00     1\n",
      "Name: DateTime, Length: 22918, dtype: int64\n",
      "\n",
      "\n",
      "---------\n",
      "OutcomeType\n",
      "---------\n",
      "Adoption           10769\n",
      "Transfer            9422\n",
      "Return_to_owner     4786\n",
      "Euthanasia          1555\n",
      "Died                 197\n",
      "Name: OutcomeType, dtype: int64\n",
      "\n",
      "\n",
      "---------\n",
      "OutcomeSubtype\n",
      "---------\n",
      "Partner                7816\n",
      "Foster                 1800\n",
      "SCRP                   1599\n",
      "Suffering              1002\n",
      "Aggressive              320\n",
      "Offsite                 165\n",
      "In Kennel               114\n",
      "Behavior                 86\n",
      "Rabies Risk              74\n",
      "Medical                  66\n",
      "In Foster                52\n",
      "Enroute                   8\n",
      "Court/Investigation       6\n",
      "At Vet                    4\n",
      "In Surgery                3\n",
      "Barn                      2\n",
      "Name: OutcomeSubtype, dtype: int64\n",
      "\n",
      "\n",
      "---------\n",
      "AnimalType\n",
      "---------\n",
      "Dog    15595\n",
      "Cat    11134\n",
      "Name: AnimalType, dtype: int64\n",
      "\n",
      "\n",
      "---------\n",
      "SexuponOutcome\n",
      "---------\n",
      "Neutered Male    9779\n",
      "Spayed Female    8820\n",
      "Intact Male      3525\n",
      "Intact Female    3511\n",
      "Unknown          1093\n",
      "Name: SexuponOutcome, dtype: int64\n",
      "\n",
      "\n",
      "---------\n",
      "AgeuponOutcome\n",
      "---------\n",
      "1 year       3969\n",
      "2 years      3742\n",
      "2 months     3397\n",
      "3 years      1823\n",
      "1 month      1281\n",
      "3 months     1277\n",
      "4 years      1071\n",
      "5 years       992\n",
      "4 months      888\n",
      "6 years       670\n",
      "3 weeks       659\n",
      "5 months      652\n",
      "6 months      588\n",
      "8 years       536\n",
      "7 years       531\n",
      "2 weeks       529\n",
      "10 months     457\n",
      "10 years      446\n",
      "8 months      402\n",
      "4 weeks       334\n",
      "9 years       288\n",
      "7 months      288\n",
      "12 years      234\n",
      "9 months      224\n",
      "1 weeks       171\n",
      "11 months     166\n",
      "1 week        146\n",
      "13 years      143\n",
      "11 years      126\n",
      "3 days        109\n",
      "2 days         99\n",
      "14 years       97\n",
      "15 years       85\n",
      "1 day          66\n",
      "4 days         50\n",
      "6 days         50\n",
      "16 years       36\n",
      "5 days         24\n",
      "0 years        22\n",
      "17 years       17\n",
      "5 weeks        11\n",
      "18 years       10\n",
      "19 years        3\n",
      "20 years        2\n",
      "Name: AgeuponOutcome, dtype: int64\n",
      "\n",
      "\n",
      "---------\n",
      "Breed\n",
      "---------\n",
      "Domestic Shorthair Mix                                    8810\n",
      "Pit Bull Mix                                              1906\n",
      "Chihuahua Shorthair Mix                                   1766\n",
      "Labrador Retriever Mix                                    1363\n",
      "Domestic Medium Hair Mix                                   839\n",
      "German Shepherd Mix                                        575\n",
      "Domestic Longhair Mix                                      520\n",
      "Siamese Mix                                                389\n",
      "Australian Cattle Dog Mix                                  367\n",
      "Dachshund Mix                                              318\n",
      "Boxer Mix                                                  245\n",
      "Miniature Poodle Mix                                       233\n",
      "Border Collie Mix                                          229\n",
      "Australian Shepherd Mix                                    163\n",
      "Rat Terrier Mix                                            157\n",
      "Catahoula Mix                                              157\n",
      "Jack Russell Terrier Mix                                   146\n",
      "Domestic Shorthair                                         143\n",
      "Yorkshire Terrier Mix                                      143\n",
      "Chihuahua Longhair Mix                                     142\n",
      "Siberian Husky Mix                                         138\n",
      "Miniature Schnauzer Mix                                    136\n",
      "Beagle Mix                                                 124\n",
      "Rottweiler Mix                                             113\n",
      "American Bulldog Mix                                       109\n",
      "Cairn Terrier Mix                                          102\n",
      "Shih Tzu Mix                                               100\n",
      "Chihuahua Shorthair/Dachshund                               98\n",
      "Australian Kelpie Mix                                       95\n",
      "Staffordshire Mix                                           94\n",
      "                                                          ... \n",
      "Labrador Retriever/Boston Terrier                            1\n",
      "Patterdale Terr/Chihuahua Shorthair                          1\n",
      "Anatol Shepherd/German Shepherd                              1\n",
      "Dachshund/German Shepherd                                    1\n",
      "Australian Shepherd/Nova Scotia Duck Tolling Retriever       1\n",
      "Welsh Springer Spaniel                                       1\n",
      "Beagle/Cocker Spaniel                                        1\n",
      "Whippet/Borzoi                                               1\n",
      "Labrador Retriever/Alaskan Husky                             1\n",
      "Boston Terrier/Miniature Schnauzer                           1\n",
      "Border Terrier/Miniature Poodle                              1\n",
      "Chihuahua Shorthair/French Bulldog                           1\n",
      "Shetland Sheepdog/Border Collie                              1\n",
      "English Springer Spaniel/Beagle                              1\n",
      "Chinese Crested/Chihuahua Longhair                           1\n",
      "Pug/Pekingese                                                1\n",
      "Flat Coat Retriever/Australian Cattle Dog                    1\n",
      "Jack Russell Terrier/Pointer                                 1\n",
      "Pharaoh Hound/Australian Cattle Dog                          1\n",
      "Pointer/Rhod Ridgeback                                       1\n",
      "Dachshund Wirehair/Cairn Terrier                             1\n",
      "Border Collie/Alaskan Husky                                  1\n",
      "Australian Shepherd/Dachshund                                1\n",
      "Great Dane/Staffordshire                                     1\n",
      "Alaskan Husky/German Shepherd                                1\n",
      "Great Dane/German Shepherd                                   1\n",
      "Miniature Schnauzer/Soft Coated Wheaten Terrier              1\n",
      "Plott Hound/Black/Tan Hound                                  1\n",
      "Cardigan Welsh Corgi/Jack Russell Terrier                    1\n",
      "Flat Coat Retriever/Golden Retriever                         1\n",
      "Name: Breed, Length: 1380, dtype: int64\n",
      "\n",
      "\n",
      "---------\n",
      "Color\n",
      "---------\n",
      "Black/White                    2824\n",
      "Black                          2292\n",
      "Brown Tabby                    1635\n",
      "Brown Tabby/White               940\n",
      "White                           931\n",
      "Brown/White                     884\n",
      "Orange Tabby                    841\n",
      "Tan/White                       773\n",
      "Tricolor                        752\n",
      "Blue/White                      702\n",
      "Black/Tan                       672\n",
      "White/Black                     643\n",
      "Brown                           639\n",
      "Tan                             628\n",
      "White/Brown                     569\n",
      "Tortie                          530\n",
      "Calico                          517\n",
      "Orange Tabby/White              455\n",
      "Brown Brindle/White             450\n",
      "Blue                            450\n",
      "Black/Brown                     436\n",
      "Blue Tabby                      433\n",
      "White/Tan                       389\n",
      "Red                             337\n",
      "Torbie                          335\n",
      "Brown/Black                     333\n",
      "Red/White                       331\n",
      "Blue Tabby/White                241\n",
      "Brown Brindle                   232\n",
      "Chocolate/White                 224\n",
      "                               ... \n",
      "Pink                              1\n",
      "White/Black Smoke                 1\n",
      "Blue Tiger                        1\n",
      "Red/Gold                          1\n",
      "Brown/Black Brindle               1\n",
      "Yellow Brindle/Blue               1\n",
      "Brown/Silver                      1\n",
      "Cream/Seal Point                  1\n",
      "Brown Brindle/Brown Brindle       1\n",
      "Black/Yellow                      1\n",
      "Tortie/Black Smoke                1\n",
      "Brown Brindle/Blue                1\n",
      "Black/Black Tabby                 1\n",
      "Calico/Brown                      1\n",
      "Tan/Yellow Brindle                1\n",
      "White/Calico                      1\n",
      "Orange/Tan                        1\n",
      "Brown Brindle/Blue Tick           1\n",
      "Blue Merle/Blue Merle             1\n",
      "Agouti/Brown Tabby                1\n",
      "Red Tick/Blue Tick                1\n",
      "Tortie/Calico                     1\n",
      "Tricolor/Blue Merle               1\n",
      "Brown/Brown Merle                 1\n",
      "Liver/Buff                        1\n",
      "Tan/Brown Brindle                 1\n",
      "Black Brindle/Brown Brindle       1\n",
      "Sable/Red                         1\n",
      "Brown Tabby/Gray Tabby            1\n",
      "Tortie/Brown                      1\n",
      "Name: Color, Length: 366, dtype: int64\n",
      "\n",
      "\n"
     ]
    }
   ],
   "source": [
    "for i in list(train.columns):\n",
    "    print(\"---------\")\n",
    "    print(i)\n",
    "    print(\"---------\")\n",
    "    print(train[i].value_counts())\n",
    "    print(\"\\n\")"
   ]
  },
  {
   "cell_type": "markdown",
   "metadata": {},
   "source": [
    "## 6.\tLa variable objetivo es 'OutcomeType': qué valores tiene y en qué probabilidad? "
   ]
  },
  {
   "cell_type": "code",
   "execution_count": 48,
   "metadata": {},
   "outputs": [
    {
     "data": {
      "text/plain": [
       "Adoption           40.289573\n",
       "Transfer           35.250103\n",
       "Return_to_owner    17.905646\n",
       "Euthanasia          5.817651\n",
       "Died                0.737027\n",
       "Name: OutcomeType, dtype: float64"
      ]
     },
     "execution_count": 48,
     "metadata": {},
     "output_type": "execute_result"
    }
   ],
   "source": [
    "train[\"OutcomeType\"].value_counts()/len(train[\"OutcomeType\"])*100"
   ]
  },
  {
   "cell_type": "code",
   "execution_count": 207,
   "metadata": {},
   "outputs": [
    {
     "data": {
      "text/html": [
       "<div>\n",
       "<style scoped>\n",
       "    .dataframe tbody tr th:only-of-type {\n",
       "        vertical-align: middle;\n",
       "    }\n",
       "\n",
       "    .dataframe tbody tr th {\n",
       "        vertical-align: top;\n",
       "    }\n",
       "\n",
       "    .dataframe thead th {\n",
       "        text-align: right;\n",
       "    }\n",
       "</style>\n",
       "<table border=\"1\" class=\"dataframe\">\n",
       "  <thead>\n",
       "    <tr style=\"text-align: right;\">\n",
       "      <th></th>\n",
       "      <th>AnimalType</th>\n",
       "      <th>OutcomeType</th>\n",
       "      <th>AnimalID</th>\n",
       "      <th>prop</th>\n",
       "    </tr>\n",
       "  </thead>\n",
       "  <tbody>\n",
       "    <tr>\n",
       "      <th>0</th>\n",
       "      <td>Cat</td>\n",
       "      <td>Adoption</td>\n",
       "      <td>4272</td>\n",
       "      <td>15.982641</td>\n",
       "    </tr>\n",
       "    <tr>\n",
       "      <th>1</th>\n",
       "      <td>Cat</td>\n",
       "      <td>Died</td>\n",
       "      <td>147</td>\n",
       "      <td>0.549964</td>\n",
       "    </tr>\n",
       "    <tr>\n",
       "      <th>2</th>\n",
       "      <td>Cat</td>\n",
       "      <td>Euthanasia</td>\n",
       "      <td>710</td>\n",
       "      <td>2.656291</td>\n",
       "    </tr>\n",
       "    <tr>\n",
       "      <th>3</th>\n",
       "      <td>Cat</td>\n",
       "      <td>Return_to_owner</td>\n",
       "      <td>500</td>\n",
       "      <td>1.870627</td>\n",
       "    </tr>\n",
       "    <tr>\n",
       "      <th>4</th>\n",
       "      <td>Cat</td>\n",
       "      <td>Transfer</td>\n",
       "      <td>5505</td>\n",
       "      <td>20.595608</td>\n",
       "    </tr>\n",
       "    <tr>\n",
       "      <th>5</th>\n",
       "      <td>Dog</td>\n",
       "      <td>Adoption</td>\n",
       "      <td>6497</td>\n",
       "      <td>24.306933</td>\n",
       "    </tr>\n",
       "    <tr>\n",
       "      <th>6</th>\n",
       "      <td>Dog</td>\n",
       "      <td>Died</td>\n",
       "      <td>50</td>\n",
       "      <td>0.187063</td>\n",
       "    </tr>\n",
       "    <tr>\n",
       "      <th>7</th>\n",
       "      <td>Dog</td>\n",
       "      <td>Euthanasia</td>\n",
       "      <td>845</td>\n",
       "      <td>3.161360</td>\n",
       "    </tr>\n",
       "    <tr>\n",
       "      <th>8</th>\n",
       "      <td>Dog</td>\n",
       "      <td>Return_to_owner</td>\n",
       "      <td>4286</td>\n",
       "      <td>16.035018</td>\n",
       "    </tr>\n",
       "    <tr>\n",
       "      <th>9</th>\n",
       "      <td>Dog</td>\n",
       "      <td>Transfer</td>\n",
       "      <td>3917</td>\n",
       "      <td>14.654495</td>\n",
       "    </tr>\n",
       "  </tbody>\n",
       "</table>\n",
       "</div>"
      ],
      "text/plain": [
       "  AnimalType      OutcomeType  AnimalID       prop\n",
       "0        Cat         Adoption      4272  15.982641\n",
       "1        Cat             Died       147   0.549964\n",
       "2        Cat       Euthanasia       710   2.656291\n",
       "3        Cat  Return_to_owner       500   1.870627\n",
       "4        Cat         Transfer      5505  20.595608\n",
       "5        Dog         Adoption      6497  24.306933\n",
       "6        Dog             Died        50   0.187063\n",
       "7        Dog       Euthanasia       845   3.161360\n",
       "8        Dog  Return_to_owner      4286  16.035018\n",
       "9        Dog         Transfer      3917  14.654495"
      ]
     },
     "execution_count": 207,
     "metadata": {},
     "output_type": "execute_result"
    }
   ],
   "source": [
    "t2=train.groupby([\"AnimalType\",\"OutcomeType\"], as_index=False).agg({\"AnimalID\":\"count\"})\n",
    "t2[\"prop\"] = t2[\"AnimalID\"]/len(train[\"OutcomeType\"])*100\n",
    "t2"
   ]
  },
  {
   "cell_type": "code",
   "execution_count": 52,
   "metadata": {},
   "outputs": [],
   "source": [
    "cats = train.loc[train.AnimalType == 'Cat']\n",
    "dogs = train.loc[train.AnimalType == 'Dog']"
   ]
  },
  {
   "cell_type": "code",
   "execution_count": 53,
   "metadata": {},
   "outputs": [
    {
     "data": {
      "text/plain": [
       "Transfer           49.443147\n",
       "Adoption           38.368960\n",
       "Euthanasia          6.376864\n",
       "Return_to_owner     4.490749\n",
       "Died                1.320280\n",
       "Name: OutcomeType, dtype: float64"
      ]
     },
     "execution_count": 53,
     "metadata": {},
     "output_type": "execute_result"
    }
   ],
   "source": [
    "cats.OutcomeType.value_counts()/len(cats.OutcomeType)*100"
   ]
  },
  {
   "cell_type": "code",
   "execution_count": 54,
   "metadata": {},
   "outputs": [
    {
     "data": {
      "text/plain": [
       "Adoption           41.660789\n",
       "Return_to_owner    27.483168\n",
       "Transfer           25.117025\n",
       "Euthanasia          5.418403\n",
       "Died                0.320616\n",
       "Name: OutcomeType, dtype: float64"
      ]
     },
     "execution_count": 54,
     "metadata": {},
     "output_type": "execute_result"
    }
   ],
   "source": [
    "dogs.OutcomeType.value_counts()/len(dogs.OutcomeType)*100\n"
   ]
  },
  {
   "cell_type": "code",
   "execution_count": 57,
   "metadata": {},
   "outputs": [
    {
     "data": {
      "text/plain": [
       "Dog    15595\n",
       "Cat    11134\n",
       "Name: AnimalType, dtype: int64"
      ]
     },
     "execution_count": 57,
     "metadata": {},
     "output_type": "execute_result"
    }
   ],
   "source": [
    "train[\"AnimalType\"].value_counts()"
   ]
  },
  {
   "cell_type": "code",
   "execution_count": 59,
   "metadata": {},
   "outputs": [],
   "source": [
    "from statsmodels.stats.proportion import proportions_ztest"
   ]
  },
  {
   "cell_type": "code",
   "execution_count": 62,
   "metadata": {},
   "outputs": [],
   "source": [
    "# Defining a hypothesis checker function:\n",
    "def hyp_checker(pvalue):\n",
    "   alpha = 0.05\n",
    "   if type(alpha) != float:\n",
    "       print('Insert a correct alpha')\n",
    "       return hyp_checker(result)\n",
    "   else:\n",
    "       if pvalue <= alpha:\n",
    "           return \"Our p value ({}) is smaller than our alpha({}). H0 is rejected\".format(pvalue, alpha)\n",
    "       else:\n",
    "           return \"Our p value ({}) is bigger than our alpha({}). Fail to reject H0\".format(pvalue, alpha)"
   ]
  },
  {
   "cell_type": "code",
   "execution_count": 64,
   "metadata": {},
   "outputs": [
    {
     "name": "stdout",
     "output_type": "stream",
     "text": [
      "Adoption:\n",
      "6.788792953855693e-08\n",
      "Our p value (6.788792953855693e-08) is smaller than our alpha(0.05). H0 is rejected\n",
      "\n",
      "\n",
      "Transfer:\n",
      "0.0\n",
      "Our p value (0.0) is smaller than our alpha(0.05). H0 is rejected\n",
      "\n",
      "\n",
      "Return_to_owner:\n",
      "0.0\n",
      "Our p value (0.0) is smaller than our alpha(0.05). H0 is rejected\n",
      "\n",
      "\n",
      "Euthanasia:\n",
      "0.0010614377915052896\n",
      "Our p value (0.0010614377915052896) is smaller than our alpha(0.05). H0 is rejected\n",
      "\n",
      "\n",
      "Died:\n",
      "8.986039355204564e-21\n",
      "Our p value (8.986039355204564e-21) is smaller than our alpha(0.05). H0 is rejected\n",
      "\n",
      "\n"
     ]
    }
   ],
   "source": [
    "from scipy.stats import chi2_contingency\n",
    "\n",
    "\n",
    "for i in list(train.OutcomeType.value_counts().index):\n",
    "   conting = pd.crosstab(train.AnimalType, train.OutcomeType == i)\n",
    "   result = chi2_contingency(conting)\n",
    "   print('{}:'.format(i))\n",
    "   print(result[1])\n",
    "   print(hyp_checker(result[1]))\n",
    "   print('\\n')"
   ]
  },
  {
   "cell_type": "code",
   "execution_count": 60,
   "metadata": {},
   "outputs": [],
   "source": [
    "import pandas as pd\n",
    "import matplotlib.pyplot as plt\n",
    "import seaborn as sns"
   ]
  },
  {
   "cell_type": "code",
   "execution_count": 169,
   "metadata": {},
   "outputs": [
    {
     "data": {
      "text/plain": [
       "Partner       29.241648\n",
       "Foster         6.734259\n",
       "SCRP           5.982266\n",
       "Suffering      3.748737\n",
       "Aggressive     1.197202\n",
       "Name: OutcomeSubtype, dtype: float64"
      ]
     },
     "execution_count": 169,
     "metadata": {},
     "output_type": "execute_result"
    }
   ],
   "source": [
    "teste2 = train[\"OutcomeSubtype\"].value_counts()/len(train[\"OutcomeSubtype\"])*100\n",
    "teste2.head()"
   ]
  },
  {
   "cell_type": "code",
   "execution_count": 72,
   "metadata": {},
   "outputs": [
    {
     "data": {
      "text/plain": [
       "1 year       14.849040\n",
       "2 years      13.999776\n",
       "2 months     12.709043\n",
       "3 years       6.820308\n",
       "1 month       4.792547\n",
       "3 months      4.777582\n",
       "4 years       4.006884\n",
       "5 years       3.711325\n",
       "4 months      3.322234\n",
       "6 years       2.506641\n",
       "3 weeks       2.465487\n",
       "5 months      2.439298\n",
       "6 months      2.199858\n",
       "8 years       2.005313\n",
       "7 years       1.986606\n",
       "2 weeks       1.979124\n",
       "10 months     1.709753\n",
       "10 years      1.668600\n",
       "8 months      1.503984\n",
       "4 weeks       1.249579\n",
       "9 years       1.077481\n",
       "7 months      1.077481\n",
       "12 years      0.875454\n",
       "9 months      0.838041\n",
       "1 weeks       0.639755\n",
       "11 months     0.621048\n",
       "1 week        0.546223\n",
       "13 years      0.534999\n",
       "11 years      0.471398\n",
       "3 days        0.407797\n",
       "2 days        0.370384\n",
       "14 years      0.362902\n",
       "15 years      0.318007\n",
       "1 day         0.246923\n",
       "4 days        0.187063\n",
       "6 days        0.187063\n",
       "16 years      0.134685\n",
       "5 days        0.089790\n",
       "0 years       0.082308\n",
       "17 years      0.063601\n",
       "5 weeks       0.041154\n",
       "18 years      0.037413\n",
       "19 years      0.011224\n",
       "20 years      0.007483\n",
       "Name: AgeuponOutcome, dtype: float64"
      ]
     },
     "execution_count": 72,
     "metadata": {},
     "output_type": "execute_result"
    }
   ],
   "source": [
    "train[\"AgeuponOutcome\"].value_counts()/len(train[\"AgeuponOutcome\"])*100"
   ]
  },
  {
   "cell_type": "code",
   "execution_count": 121,
   "metadata": {},
   "outputs": [],
   "source": [
    "def to_day(string):\n",
    "    if \"year\" in string:\n",
    "        string = string.replace('s', '')\n",
    "        string = int(string.replace(\"year\",\"\").strip())\n",
    "        string *= 365 \n",
    "        return string\n",
    "        \n",
    "    elif \"month\" in string:\n",
    "        string = string.replace('s', '')\n",
    "        string = int(string.replace(\"month\",\"\").strip())\n",
    "        string *= 30 \n",
    "        return string\n",
    "        \n",
    "    elif \"week\" in string:\n",
    "        string = string.replace('s', '')\n",
    "        string = int(string.replace(\"week\",\"\").strip())\n",
    "        string *= 7 \n",
    "        return string\n",
    "    else:\n",
    "        string = string.replace('s', '')\n",
    "        string = int(string.replace(\"day\",\"\").strip())\n",
    "        return string\n"
   ]
  },
  {
   "cell_type": "code",
   "execution_count": 142,
   "metadata": {},
   "outputs": [],
   "source": [
    "train['age_day'] = train.AgeuponOutcome.dropna().apply(lambda x: to_day(x))\n"
   ]
  },
  {
   "cell_type": "code",
   "execution_count": 151,
   "metadata": {},
   "outputs": [
    {
     "data": {
      "text/html": [
       "<div>\n",
       "<style scoped>\n",
       "    .dataframe tbody tr th:only-of-type {\n",
       "        vertical-align: middle;\n",
       "    }\n",
       "\n",
       "    .dataframe tbody tr th {\n",
       "        vertical-align: top;\n",
       "    }\n",
       "\n",
       "    .dataframe thead th {\n",
       "        text-align: right;\n",
       "    }\n",
       "</style>\n",
       "<table border=\"1\" class=\"dataframe\">\n",
       "  <thead>\n",
       "    <tr style=\"text-align: right;\">\n",
       "      <th></th>\n",
       "      <th>AnimalID</th>\n",
       "      <th>Name</th>\n",
       "      <th>DateTime</th>\n",
       "      <th>OutcomeType</th>\n",
       "      <th>OutcomeSubtype</th>\n",
       "      <th>AnimalType</th>\n",
       "      <th>SexuponOutcome</th>\n",
       "      <th>AgeuponOutcome</th>\n",
       "      <th>Breed</th>\n",
       "      <th>Color</th>\n",
       "      <th>age_day</th>\n",
       "      <th>d</th>\n",
       "    </tr>\n",
       "  </thead>\n",
       "  <tbody>\n",
       "    <tr>\n",
       "      <th>0</th>\n",
       "      <td>A671945</td>\n",
       "      <td>Hambone</td>\n",
       "      <td>2014-02-12 18:22:00</td>\n",
       "      <td>Return_to_owner</td>\n",
       "      <td>NaN</td>\n",
       "      <td>Dog</td>\n",
       "      <td>Neutered Male</td>\n",
       "      <td>1 year</td>\n",
       "      <td>Shetland Sheepdog Mix</td>\n",
       "      <td>Brown/White</td>\n",
       "      <td>365.0</td>\n",
       "      <td>365.0</td>\n",
       "    </tr>\n",
       "    <tr>\n",
       "      <th>1</th>\n",
       "      <td>A656520</td>\n",
       "      <td>Emily</td>\n",
       "      <td>2013-10-13 12:44:00</td>\n",
       "      <td>Euthanasia</td>\n",
       "      <td>Suffering</td>\n",
       "      <td>Cat</td>\n",
       "      <td>Spayed Female</td>\n",
       "      <td>1 year</td>\n",
       "      <td>Domestic Shorthair Mix</td>\n",
       "      <td>Cream Tabby</td>\n",
       "      <td>365.0</td>\n",
       "      <td>365.0</td>\n",
       "    </tr>\n",
       "    <tr>\n",
       "      <th>2</th>\n",
       "      <td>A686464</td>\n",
       "      <td>Pearce</td>\n",
       "      <td>2015-01-31 12:28:00</td>\n",
       "      <td>Adoption</td>\n",
       "      <td>Foster</td>\n",
       "      <td>Dog</td>\n",
       "      <td>Neutered Male</td>\n",
       "      <td>2 years</td>\n",
       "      <td>Pit Bull Mix</td>\n",
       "      <td>Blue/White</td>\n",
       "      <td>730.0</td>\n",
       "      <td>730.0</td>\n",
       "    </tr>\n",
       "    <tr>\n",
       "      <th>3</th>\n",
       "      <td>A683430</td>\n",
       "      <td>NaN</td>\n",
       "      <td>2014-07-11 19:09:00</td>\n",
       "      <td>Transfer</td>\n",
       "      <td>Partner</td>\n",
       "      <td>Cat</td>\n",
       "      <td>Intact Male</td>\n",
       "      <td>3 weeks</td>\n",
       "      <td>Domestic Shorthair Mix</td>\n",
       "      <td>Blue Cream</td>\n",
       "      <td>21.0</td>\n",
       "      <td>21.0</td>\n",
       "    </tr>\n",
       "    <tr>\n",
       "      <th>4</th>\n",
       "      <td>A667013</td>\n",
       "      <td>NaN</td>\n",
       "      <td>2013-11-15 12:52:00</td>\n",
       "      <td>Transfer</td>\n",
       "      <td>Partner</td>\n",
       "      <td>Dog</td>\n",
       "      <td>Neutered Male</td>\n",
       "      <td>2 years</td>\n",
       "      <td>Lhasa Apso/Miniature Poodle</td>\n",
       "      <td>Tan</td>\n",
       "      <td>730.0</td>\n",
       "      <td>730.0</td>\n",
       "    </tr>\n",
       "  </tbody>\n",
       "</table>\n",
       "</div>"
      ],
      "text/plain": [
       "  AnimalID     Name             DateTime      OutcomeType OutcomeSubtype  \\\n",
       "0  A671945  Hambone  2014-02-12 18:22:00  Return_to_owner            NaN   \n",
       "1  A656520    Emily  2013-10-13 12:44:00       Euthanasia      Suffering   \n",
       "2  A686464   Pearce  2015-01-31 12:28:00         Adoption         Foster   \n",
       "3  A683430      NaN  2014-07-11 19:09:00         Transfer        Partner   \n",
       "4  A667013      NaN  2013-11-15 12:52:00         Transfer        Partner   \n",
       "\n",
       "  AnimalType SexuponOutcome AgeuponOutcome                        Breed  \\\n",
       "0        Dog  Neutered Male         1 year        Shetland Sheepdog Mix   \n",
       "1        Cat  Spayed Female         1 year       Domestic Shorthair Mix   \n",
       "2        Dog  Neutered Male        2 years                 Pit Bull Mix   \n",
       "3        Cat    Intact Male        3 weeks       Domestic Shorthair Mix   \n",
       "4        Dog  Neutered Male        2 years  Lhasa Apso/Miniature Poodle   \n",
       "\n",
       "         Color  age_day      d  \n",
       "0  Brown/White    365.0  365.0  \n",
       "1  Cream Tabby    365.0  365.0  \n",
       "2   Blue/White    730.0  730.0  \n",
       "3   Blue Cream     21.0   21.0  \n",
       "4          Tan    730.0  730.0  "
      ]
     },
     "execution_count": 151,
     "metadata": {},
     "output_type": "execute_result"
    }
   ],
   "source": [
    "train.head()"
   ]
  },
  {
   "cell_type": "code",
   "execution_count": 183,
   "metadata": {},
   "outputs": [
    {
     "data": {
      "text/html": [
       "<div>\n",
       "<style scoped>\n",
       "    .dataframe tbody tr th:only-of-type {\n",
       "        vertical-align: middle;\n",
       "    }\n",
       "\n",
       "    .dataframe tbody tr th {\n",
       "        vertical-align: top;\n",
       "    }\n",
       "\n",
       "    .dataframe thead th {\n",
       "        text-align: right;\n",
       "    }\n",
       "</style>\n",
       "<table border=\"1\" class=\"dataframe\">\n",
       "  <thead>\n",
       "    <tr style=\"text-align: right;\">\n",
       "      <th></th>\n",
       "      <th>OutcomeType</th>\n",
       "      <th>SexuponOutcome</th>\n",
       "      <th>AnimalID</th>\n",
       "      <th>prop</th>\n",
       "    </tr>\n",
       "  </thead>\n",
       "  <tbody>\n",
       "    <tr>\n",
       "      <th>0</th>\n",
       "      <td>Adoption</td>\n",
       "      <td>Intact Female</td>\n",
       "      <td>203</td>\n",
       "      <td>0.759475</td>\n",
       "    </tr>\n",
       "    <tr>\n",
       "      <th>1</th>\n",
       "      <td>Adoption</td>\n",
       "      <td>Intact Male</td>\n",
       "      <td>158</td>\n",
       "      <td>0.591118</td>\n",
       "    </tr>\n",
       "    <tr>\n",
       "      <th>2</th>\n",
       "      <td>Adoption</td>\n",
       "      <td>Neutered Male</td>\n",
       "      <td>5222</td>\n",
       "      <td>19.536833</td>\n",
       "    </tr>\n",
       "    <tr>\n",
       "      <th>3</th>\n",
       "      <td>Adoption</td>\n",
       "      <td>Spayed Female</td>\n",
       "      <td>5186</td>\n",
       "      <td>19.402147</td>\n",
       "    </tr>\n",
       "    <tr>\n",
       "      <th>4</th>\n",
       "      <td>Died</td>\n",
       "      <td>Intact Female</td>\n",
       "      <td>56</td>\n",
       "      <td>0.209510</td>\n",
       "    </tr>\n",
       "  </tbody>\n",
       "</table>\n",
       "</div>"
      ],
      "text/plain": [
       "  OutcomeType SexuponOutcome  AnimalID       prop\n",
       "0    Adoption  Intact Female       203   0.759475\n",
       "1    Adoption    Intact Male       158   0.591118\n",
       "2    Adoption  Neutered Male      5222  19.536833\n",
       "3    Adoption  Spayed Female      5186  19.402147\n",
       "4        Died  Intact Female        56   0.209510"
      ]
     },
     "execution_count": 183,
     "metadata": {},
     "output_type": "execute_result"
    }
   ],
   "source": [
    "teste = train.groupby([\"OutcomeType\",\"SexuponOutcome\"], as_index=False).agg({\"AnimalID\":\"count\"})\n",
    "teste[\"prop\"] = teste[\"AnimalID\"]/len(train[\"SexuponOutcome\"])*100\n",
    "teste.head()"
   ]
  },
  {
   "cell_type": "code",
   "execution_count": 187,
   "metadata": {},
   "outputs": [
    {
     "data": {
      "text/plain": [
       "<matplotlib.axes._subplots.AxesSubplot at 0x16f687302b0>"
      ]
     },
     "execution_count": 187,
     "metadata": {},
     "output_type": "execute_result"
    },
    {
     "data": {
      "image/png": "[encoded data removed]",
      "text/plain": [
       "<Figure size 864x576 with 1 Axes>"
      ]
     },
     "metadata": {
      "needs_background": "light"
     },
     "output_type": "display_data"
    }
   ],
   "source": [
    "fig,ax = plt.subplots(figsize=(12,8))\n",
    "sns.barplot(x=\"SexuponOutcome\",y=\"prop\",data=teste, hue=\"OutcomeType\")"
   ]
  },
  {
   "cell_type": "code",
   "execution_count": 176,
   "metadata": {},
   "outputs": [
    {
     "ename": "SyntaxError",
     "evalue": "invalid syntax (<ipython-input-176-6657131d2176>, line 1)",
     "output_type": "error",
     "traceback": [
      "\u001b[1;36m  File \u001b[1;32m\"<ipython-input-176-6657131d2176>\"\u001b[1;36m, line \u001b[1;32m1\u001b[0m\n\u001b[1;33m    teste.plot.bar(x=\"OutcomeType\",y=[\"AnimalID\"/len['AnimalID']*100)\u001b[0m\n\u001b[1;37m                                                                    ^\u001b[0m\n\u001b[1;31mSyntaxError\u001b[0m\u001b[1;31m:\u001b[0m invalid syntax\n"
     ]
    }
   ],
   "source": [
    "teste.plot.bar(x=\"OutcomeType\",y=[\"AnimalID\"/len['AnimalID']*100)"
   ]
  },
  {
   "cell_type": "code",
   "execution_count": 173,
   "metadata": {},
   "outputs": [
    {
     "data": {
      "text/plain": [
       "<matplotlib.axes._subplots.AxesSubplot at 0x16f68207860>"
      ]
     },
     "execution_count": 173,
     "metadata": {},
     "output_type": "execute_result"
    },
    {
     "data": {
      "image/png": "[encoded data removed]",
      "text/plain": [
       "<Figure size 432x288 with 1 Axes>"
      ]
     },
     "metadata": {
      "needs_background": "light"
     },
     "output_type": "display_data"
    }
   ],
   "source": [
    "sns.distplot(train[\"age_day\"].dropna())"
   ]
  },
  {
   "cell_type": "code",
   "execution_count": 188,
   "metadata": {},
   "outputs": [
    {
     "data": {
      "text/plain": [
       "Neutered Male    9779\n",
       "Spayed Female    8820\n",
       "Intact Male      3525\n",
       "Intact Female    3511\n",
       "Unknown          1093\n",
       "Name: SexuponOutcome, dtype: int64"
      ]
     },
     "execution_count": 188,
     "metadata": {},
     "output_type": "execute_result"
    }
   ],
   "source": [
    "train[\"SexuponOutcome\"].value_counts()"
   ]
  },
  {
   "cell_type": "code",
   "execution_count": 193,
   "metadata": {},
   "outputs": [],
   "source": [
    "train[\"DateTime\"] = pd.to_datetime(train[\"DateTime\"])\n"
   ]
  },
  {
   "cell_type": "code",
   "execution_count": 197,
   "metadata": {},
   "outputs": [
    {
     "data": {
      "text/plain": [
       "<matplotlib.axes._subplots.AxesSubplot at 0x16f6933a1d0>"
      ]
     },
     "execution_count": 197,
     "metadata": {},
     "output_type": "execute_result"
    },
    {
     "data": {
      "image/png": "[encoded data removed]",
      "text/plain": [
       "<Figure size 864x576 with 1 Axes>"
      ]
     },
     "metadata": {
      "needs_background": "light"
     },
     "output_type": "display_data"
    }
   ],
   "source": [
    "fig,ax = plt.subplots(figsize=(12,8))\n",
    "train[\"DateTime\"].hist()"
   ]
  },
  {
   "cell_type": "code",
   "execution_count": null,
   "metadata": {},
   "outputs": [],
   "source": []
  }
 ],
 "metadata": {
  "kernelspec": {
   "display_name": "Python 3",
   "language": "python",
   "name": "python3"
  },
  "language_info": {
   "codemirror_mode": {
    "name": "ipython",
    "version": 3
   },
   "file_extension": ".py",
   "mimetype": "text/x-python",
   "name": "python",
   "nbconvert_exporter": "python",
   "pygments_lexer": "ipython3",
   "version": "3.7.3"
  }
 },
 "nbformat": 4,
 "nbformat_minor": 2
}
